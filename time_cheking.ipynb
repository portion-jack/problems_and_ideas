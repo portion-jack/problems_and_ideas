{
 "cells": [
  {
   "cell_type": "code",
   "execution_count": 7,
   "outputs": [],
   "source": [
    "def factorial_a(n):\n",
    "    if n == 1:\n",
    "        return 1\n",
    "    elif 1<n:\n",
    "        return n*factorial_a(n-1)"
   ],
   "metadata": {
    "collapsed": false,
    "pycharm": {
     "name": "#%%\n"
    }
   }
  },
  {
   "cell_type": "code",
   "execution_count": 13,
   "outputs": [],
   "source": [
    "def factorial_b(n):\n",
    "    ans = 1\n",
    "    if n == 1:\n",
    "        return 1\n",
    "    for _ in range(1,n+1):\n",
    "        ans *= _\n",
    "    return ans"
   ],
   "metadata": {
    "collapsed": false,
    "pycharm": {
     "name": "#%%\n"
    }
   }
  },
  {
   "cell_type": "code",
   "execution_count": 23,
   "outputs": [
    {
     "name": "stdout",
     "output_type": "stream",
     "text": [
      "---3.814697265625e-06s seconds---\n",
      "---4.76837158203125e-06s seconds---\n",
      "---5.7220458984375e-06s seconds---\n",
      "---7.867813110351562e-06s seconds---\n"
     ]
    }
   ],
   "source": [
    "import time\n",
    "\n",
    "for i in range(10,50,10):\n",
    "    # start_time을 체크\n",
    "    start_time = time.time()\n",
    "    factorial_a(i)\n",
    "    print(\"---{}s seconds---\".format(time.time()-start_time))"
   ],
   "metadata": {
    "collapsed": false,
    "pycharm": {
     "name": "#%%\n"
    }
   }
  },
  {
   "cell_type": "code",
   "execution_count": 24,
   "outputs": [
    {
     "name": "stdout",
     "output_type": "stream",
     "text": [
      "---3.0994415283203125e-06s seconds---\n",
      "---1.9073486328125e-06s seconds---\n",
      "---2.1457672119140625e-06s seconds---\n",
      "---1.9073486328125e-06s seconds---\n"
     ]
    }
   ],
   "source": [
    "import time\n",
    "\n",
    "for i in range(10,50,10):\n",
    "    # start_time을 체크\n",
    "    start_time = time.time()\n",
    "    factorial_b(30)\n",
    "    print(\"---{}s seconds---\".format(time.time()-start_time))"
   ],
   "metadata": {
    "collapsed": false,
    "pycharm": {
     "name": "#%%\n"
    }
   }
  }
 ],
 "metadata": {
  "kernelspec": {
   "display_name": "Python 3",
   "language": "python",
   "name": "python3"
  },
  "language_info": {
   "codemirror_mode": {
    "name": "ipython",
    "version": 2
   },
   "file_extension": ".py",
   "mimetype": "text/x-python",
   "name": "python",
   "nbconvert_exporter": "python",
   "pygments_lexer": "ipython2",
   "version": "2.7.6"
  }
 },
 "nbformat": 4,
 "nbformat_minor": 0
}